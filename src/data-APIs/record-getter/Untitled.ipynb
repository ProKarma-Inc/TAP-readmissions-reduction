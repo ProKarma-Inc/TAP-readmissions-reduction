{
 "cells": [
  {
   "cell_type": "code",
   "execution_count": 1,
   "metadata": {
    "collapsed": true
   },
   "outputs": [],
   "source": [
    "import pandas as pd\n",
    "import numpy as np\n",
    "import requests\n",
    "import json"
   ]
  },
  {
   "cell_type": "code",
   "execution_count": 42,
   "metadata": {
    "collapsed": false
   },
   "outputs": [
    {
     "data": {
      "text/plain": [
       "u'/Users/mhood/TAP-readmissions-reduction/src/data-APIs/record-getter'"
      ]
     },
     "execution_count": 42,
     "metadata": {},
     "output_type": "execute_result"
    }
   ],
   "source": [
    "pwd"
   ]
  },
  {
   "cell_type": "code",
   "execution_count": 43,
   "metadata": {
    "collapsed": false
   },
   "outputs": [
    {
     "name": "stdout",
     "output_type": "stream",
     "text": [
      "README.md          manifest.yml       requirements.txt\r\n",
      "Untitled.ipynb     record_parser.py   \u001b[1m\u001b[36msampledata\u001b[m\u001b[m/\r\n",
      "\u001b[1m\u001b[36mbin\u001b[m\u001b[m/               record_parser.pyc  \u001b[31mserver.py\u001b[m\u001b[m*\r\n"
     ]
    }
   ],
   "source": [
    "ls"
   ]
  },
  {
   "cell_type": "code",
   "execution_count": 45,
   "metadata": {
    "collapsed": true
   },
   "outputs": [],
   "source": [
    "admissionsURL = \"sampledata/discharge-admissions.psv\"\n",
    "comorbidsURL = \"sampledata/discharge-comorbids.psv\"\n",
    "patientsURL = \"sampledata/discharge-patients.psv\"\n",
    "urls = [admissionsURL, comorbidsURL, patientsURL]"
   ]
  },
  {
   "cell_type": "code",
   "execution_count": 46,
   "metadata": {
    "collapsed": false
   },
   "outputs": [
    {
     "data": {
      "text/plain": [
       "['sampledata/discharge-admissions.psv',\n",
       " 'sampledata/discharge-comorbids.psv',\n",
       " 'sampledata/discharge-patients.psv']"
      ]
     },
     "execution_count": 46,
     "metadata": {},
     "output_type": "execute_result"
    }
   ],
   "source": [
    "urls"
   ]
  },
  {
   "cell_type": "code",
   "execution_count": 92,
   "metadata": {
    "collapsed": true
   },
   "outputs": [],
   "source": [
    "from record_parser import parse_records, get_risk_score, dataframe_to_docs"
   ]
  },
  {
   "cell_type": "code",
   "execution_count": 35,
   "metadata": {
    "collapsed": false
   },
   "outputs": [],
   "source": [
    "ids = pd.read_csv(urls[0], delimiter='|').head()['HADM_ID']"
   ]
  },
  {
   "cell_type": "code",
   "execution_count": 65,
   "metadata": {
    "collapsed": false
   },
   "outputs": [],
   "source": [
    "records = parse_records(urls, ids)"
   ]
  },
  {
   "cell_type": "code",
   "execution_count": 67,
   "metadata": {
    "collapsed": true
   },
   "outputs": [],
   "source": [
    "riskScorerAPI = 'http://risk-scorer-jb.52.204.218.231.nip.io/v1/score-patients?admissionIDs={0}'"
   ]
  },
  {
   "cell_type": "code",
   "execution_count": 91,
   "metadata": {
    "collapsed": false
   },
   "outputs": [],
   "source": [
    "res = get_risk_score(ids, records, riskScorerAPI)"
   ]
  },
  {
   "cell_type": "code",
   "execution_count": 93,
   "metadata": {
    "collapsed": true
   },
   "outputs": [],
   "source": [
    "docs = dataframe_to_docs(res)"
   ]
  },
  {
   "cell_type": "code",
   "execution_count": 96,
   "metadata": {
    "collapsed": false
   },
   "outputs": [],
   "source": [
    "admissions = pd.read_csv(urls[0], delimiter='|')"
   ]
  },
  {
   "cell_type": "code",
   "execution_count": 104,
   "metadata": {
    "collapsed": false
   },
   "outputs": [],
   "source": [
    "admissions.HADM_ID.to_csv('admission-ids.csv', header=True, index=False)"
   ]
  },
  {
   "cell_type": "code",
   "execution_count": 106,
   "metadata": {
    "collapsed": false
   },
   "outputs": [],
   "source": [
    "d = pd.read_csv('admission-ids.csv')"
   ]
  },
  {
   "cell_type": "code",
   "execution_count": 108,
   "metadata": {
    "collapsed": true
   },
   "outputs": [],
   "source": [
    "ids = [165315,\n",
    " 131357,\n",
    " 165931,\n",
    " 176664,\n",
    " 148472]"
   ]
  },
  {
   "cell_type": "code",
   "execution_count": 119,
   "metadata": {
    "collapsed": false
   },
   "outputs": [],
   "source": [
    "url = \"http://record-getter.52.204.218.231.nip.io/v1/get-records?admissionIDs={0}\".format(ids)"
   ]
  },
  {
   "cell_type": "code",
   "execution_count": 117,
   "metadata": {
    "collapsed": true
   },
   "outputs": [],
   "source": [
    "resp = requests.get(url)"
   ]
  },
  {
   "cell_type": "code",
   "execution_count": 121,
   "metadata": {
    "collapsed": false
   },
   "outputs": [
    {
     "data": {
      "text/plain": [
       "'http://record-getter.52.204.218.231.nip.io/v1/get-records?admissionIDs=[165315, 131357, 165931, 176664, 148472]'"
      ]
     },
     "execution_count": 121,
     "metadata": {},
     "output_type": "execute_result"
    }
   ],
   "source": [
    "url"
   ]
  },
  {
   "cell_type": "code",
   "execution_count": 177,
   "metadata": {
    "collapsed": true
   },
   "outputs": [],
   "source": []
  },
  {
   "cell_type": "code",
   "execution_count": 181,
   "metadata": {
    "collapsed": false
   },
   "outputs": [],
   "source": [
    "myTime = '1801-10-25 00:00:00.0'"
   ]
  },
  {
   "cell_type": "code",
   "execution_count": 182,
   "metadata": {
    "collapsed": false
   },
   "outputs": [
    {
     "data": {
      "text/plain": [
       "datetime.datetime(1801, 10, 25, 0, 0)"
      ]
     },
     "execution_count": 182,
     "metadata": {},
     "output_type": "execute_result"
    }
   ],
   "source": [
    "to_datetime(myTime)"
   ]
  },
  {
   "cell_type": "code",
   "execution_count": 184,
   "metadata": {
    "collapsed": false
   },
   "outputs": [],
   "source": [
    "n = np.array([1, 2])"
   ]
  },
  {
   "cell_type": "code",
   "execution_count": 186,
   "metadata": {
    "collapsed": false
   },
   "outputs": [
    {
     "data": {
      "text/plain": [
       "array([nan, 'ENGL', 'RUSS', 'POLI', 'PTUN', 'SPAN', 'HAIT', 'CAMB', 'FREN',\n",
       "       'PORT', 'VIET', 'CANT', 'ITAL', 'ARAB'], dtype=object)"
      ]
     },
     "execution_count": 186,
     "metadata": {},
     "output_type": "execute_result"
    }
   ],
   "source": [
    "dfAdmissions.LANGUAGE.unique()"
   ]
  },
  {
   "cell_type": "code",
   "execution_count": 187,
   "metadata": {
    "collapsed": false
   },
   "outputs": [
    {
     "name": "stdout",
     "output_type": "stream",
     "text": [
      "<class 'pandas.core.frame.DataFrame'>\n",
      "RangeIndex: 300 entries, 0 to 299\n",
      "Data columns (total 20 columns):\n",
      "ROW_ID                  300 non-null int64\n",
      "SUBJECT_ID              300 non-null int64\n",
      "HADM_ID                 300 non-null int64\n",
      "ADMITTIME               300 non-null object\n",
      "DISCHTIME               300 non-null object\n",
      "DEATHTIME               300 non-null object\n",
      "ADMISSION_TYPE          300 non-null object\n",
      "ADMISSION_LOCATION      300 non-null object\n",
      "DISCHARGE_LOCATION      300 non-null object\n",
      "INSURANCE               300 non-null object\n",
      "LANGUAGE                201 non-null object\n",
      "RELIGION                296 non-null object\n",
      "MARITAL_STATUS          286 non-null object\n",
      "ETHNICITY               300 non-null object\n",
      "EDREGTIME               300 non-null object\n",
      "EDOUTTIME               300 non-null object\n",
      "DIAGNOSIS               299 non-null object\n",
      "HOSPITAL_EXPIRE_FLAG    300 non-null int64\n",
      "HAS_IOEVENTS_DATA       300 non-null int64\n",
      "HAS_CHARTEVENTS_DATA    300 non-null int64\n",
      "dtypes: int64(6), object(14)\n",
      "memory usage: 46.9+ KB\n"
     ]
    }
   ],
   "source": [
    "dfAdmissions.info()"
   ]
  },
  {
   "cell_type": "code",
   "execution_count": 188,
   "metadata": {
    "collapsed": true
   },
   "outputs": [],
   "source": [
    "for col in ['ADMISSION_TYPE', 'DIAGNOSIS', 'INSURANCE', 'ETHNICITY', 'LANGUAGE', 'MARITAL_STATUS']:\n",
    "        dfAdmissions[col] = dfAdmissions[col].fillna('No Data')"
   ]
  },
  {
   "cell_type": "code",
   "execution_count": 218,
   "metadata": {
    "collapsed": false
   },
   "outputs": [],
   "source": [
    "dfAdmissions = pd.read_csv(\"data/discharge-admissions.psv\", delimiter='|')\n",
    "dfPatients = pd.read_csv(\"data/discharge-patients.psv\", delimiter='|')\n",
    "dfComorbids = pd.read_csv('data/discharge-comorbids.psv', delimiter='|')"
   ]
  },
  {
   "cell_type": "code",
   "execution_count": 192,
   "metadata": {
    "collapsed": false
   },
   "outputs": [
    {
     "name": "stdout",
     "output_type": "stream",
     "text": [
      "<class 'pandas.core.frame.DataFrame'>\n",
      "RangeIndex: 683 entries, 0 to 682\n",
      "Data columns (total 8 columns):\n",
      "ROW_ID           683 non-null int64\n",
      "SUBJECT_ID       683 non-null int64\n",
      "HADM_ID          683 non-null int64\n",
      "DRG_TYPE         683 non-null object\n",
      "DRG_CODE         683 non-null int64\n",
      "DESCRIPTION      683 non-null object\n",
      "DRG_SEVERITY     683 non-null int64\n",
      "DRG_MORTALITY    683 non-null int64\n",
      "dtypes: int64(6), object(2)\n",
      "memory usage: 42.8+ KB\n"
     ]
    }
   ],
   "source": [
    "dfComorbids.info()"
   ]
  },
  {
   "cell_type": "code",
   "execution_count": 193,
   "metadata": {
    "collapsed": true
   },
   "outputs": [],
   "source": [
    "url = \"http://patient-risk-api.52.204.218.231.nip.io/api/discharge-patients\""
   ]
  },
  {
   "cell_type": "code",
   "execution_count": 210,
   "metadata": {
    "collapsed": false
   },
   "outputs": [],
   "source": [
    "r = requests.get(url)"
   ]
  },
  {
   "cell_type": "code",
   "execution_count": 211,
   "metadata": {
    "collapsed": false
   },
   "outputs": [],
   "source": [
    "docs = json.loads(r.content)['dischargePatients']"
   ]
  },
  {
   "cell_type": "code",
   "execution_count": 212,
   "metadata": {
    "collapsed": false
   },
   "outputs": [],
   "source": [
    "d = pd.DataFrame(docs)"
   ]
  },
  {
   "cell_type": "code",
   "execution_count": 213,
   "metadata": {
    "collapsed": false
   },
   "outputs": [
    {
     "data": {
      "text/plain": [
       "array([None, u'ENGL', u'PTUN', u'HAIT', u'VIET'], dtype=object)"
      ]
     },
     "execution_count": 213,
     "metadata": {},
     "output_type": "execute_result"
    }
   ],
   "source": [
    "d.LANGUAGE.unique()"
   ]
  },
  {
   "cell_type": "code",
   "execution_count": 219,
   "metadata": {
    "collapsed": true
   },
   "outputs": [],
   "source": [
    "for col in ['ADMISSION_TYPE', 'DIAGNOSIS', 'INSURANCE', 'ETHNICITY', 'LANGUAGE', 'MARITAL_STATUS']:\n",
    "        dfAdmissions[col] = dfAdmissions[col].fillna('')"
   ]
  },
  {
   "cell_type": "code",
   "execution_count": 220,
   "metadata": {
    "collapsed": false
   },
   "outputs": [
    {
     "data": {
      "text/plain": [
       "array(['', 'ENGL', 'RUSS', 'POLI', 'PTUN', 'SPAN', 'HAIT', 'CAMB', 'FREN',\n",
       "       'PORT', 'VIET', 'CANT', 'ITAL', 'ARAB'], dtype=object)"
      ]
     },
     "execution_count": 220,
     "metadata": {},
     "output_type": "execute_result"
    }
   ],
   "source": [
    "dfAdmissions.LANGUAGE.unique()"
   ]
  },
  {
   "cell_type": "code",
   "execution_count": null,
   "metadata": {
    "collapsed": true
   },
   "outputs": [],
   "source": []
  }
 ],
 "metadata": {
  "anaconda-cloud": {},
  "kernelspec": {
   "display_name": "Python [Root]",
   "language": "python",
   "name": "Python [Root]"
  },
  "language_info": {
   "codemirror_mode": {
    "name": "ipython",
    "version": 2
   },
   "file_extension": ".py",
   "mimetype": "text/x-python",
   "name": "python",
   "nbconvert_exporter": "python",
   "pygments_lexer": "ipython2",
   "version": "2.7.12"
  }
 },
 "nbformat": 4,
 "nbformat_minor": 0
}
